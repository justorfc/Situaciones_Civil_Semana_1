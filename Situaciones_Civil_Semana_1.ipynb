{
  "nbformat": 4,
  "nbformat_minor": 0,
  "metadata": {
    "colab": {
      "provenance": [],
      "authorship_tag": "ABX9TyPd+kwbEgqUKWG57LXBHMdD",
      "include_colab_link": true
    },
    "kernelspec": {
      "name": "python3",
      "display_name": "Python 3"
    },
    "language_info": {
      "name": "python"
    }
  },
  "cells": [
    {
      "cell_type": "markdown",
      "metadata": {
        "id": "view-in-github",
        "colab_type": "text"
      },
      "source": [
        "<a href=\"https://colab.research.google.com/github/justorfc/Situaciones_Civil_Semana_1/blob/main/Situaciones_Civil_Semana_1.ipynb\" target=\"_parent\"><img src=\"https://colab.research.google.com/assets/colab-badge.svg\" alt=\"Open In Colab\"/></a>"
      ]
    },
    {
      "cell_type": "code",
      "execution_count": null,
      "metadata": {
        "id": "ii_pbC3nGqee"
      },
      "outputs": [],
      "source": []
    },
    {
      "cell_type": "markdown",
      "source": [
        "# Situación de Interés en Ingeniería Agrícola ￿:\n",
        "\n",
        "Un agricultor necesita saber cuántos kilogramos de semilla de maíz debe comprar para sembrar un lote rectangular. Conoce la densidad de siembra recomendada (kg por hectárea) y las dimensiones del lote (largo y ancho en metros)"
      ],
      "metadata": {
        "id": "NNRxK-VLHurs"
      }
    },
    {
      "cell_type": "code",
      "source": [
        "# Cálculo de Semillas\n",
        "# 1.  Saludar al usuario y explicar qué hace el programa\n",
        "print(\"Bienvenidos al calculo de semillas\")\n",
        "\n",
        "# 2.  Pedir al usuario que ingrese el largo del lote en metros (input sin conversion)\n",
        "largo = input(\"Ingrese el largo del lote en metros: \")\n",
        "\n",
        "# 3. Pedir el ancho del lote en metros (input sin conversión).\n",
        "ancho = input(\"Ingrese el ancho del lote en metros: \")\n",
        "\n",
        "# 4.  Pedir la densidad de siembra en kg/hectárea (input).\n",
        "densidad = input(\"Ingrese la densidad de siembra en kg/hectárea: \")\n",
        "\n",
        "# 5.  Convertir las entradas de texto a números decimales (float).\n",
        "largo = float(largo)\n",
        "ancho = float(ancho)\n",
        "densidad = float(densidad)\n",
        "\n",
        "# 6  Calcular el área en metros cuadrados (largo * ancho).\n",
        "area = largo * ancho\n",
        "\n",
        "# 7. Convertir el área a hectáreas (1 hectárea = 10,000 m²).\n",
        "area = area / 10000\n",
        "\n",
        "# 8. Calcular la cantidad de semillas en kilogramos (area * densidad).\n",
        "semillas = area * densidad\n",
        "\n",
        "# 9. Mostrar el resultado al usuario.\n",
        "print(\"La cantidad de semillas a comprar es:\", semillas, \"kg\")"
      ],
      "metadata": {
        "id": "g5dd0gHOIKzr"
      },
      "execution_count": null,
      "outputs": []
    }
  ]
}