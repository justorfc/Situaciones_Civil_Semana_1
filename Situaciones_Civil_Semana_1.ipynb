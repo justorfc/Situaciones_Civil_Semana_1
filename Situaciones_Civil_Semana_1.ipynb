{
  "nbformat": 4,
  "nbformat_minor": 0,
  "metadata": {
    "colab": {
      "provenance": [],
      "authorship_tag": "ABX9TyOywfo0aclfv9lgl0oM8EAT",
      "include_colab_link": true
    },
    "kernelspec": {
      "name": "python3",
      "display_name": "Python 3"
    },
    "language_info": {
      "name": "python"
    }
  },
  "cells": [
    {
      "cell_type": "markdown",
      "metadata": {
        "id": "view-in-github",
        "colab_type": "text"
      },
      "source": [
        "<a href=\"https://colab.research.google.com/github/justorfc/Situaciones_Civil_Semana_1/blob/main/Situaciones_Civil_Semana_1.ipynb\" target=\"_parent\"><img src=\"https://colab.research.google.com/assets/colab-badge.svg\" alt=\"Open In Colab\"/></a>"
      ]
    },
    {
      "cell_type": "code",
      "execution_count": null,
      "metadata": {
        "id": "ii_pbC3nGqee"
      },
      "outputs": [],
      "source": []
    },
    {
      "cell_type": "markdown",
      "source": [
        "# Situación de Interés en Ingeniería Agrícola ￿:\n",
        "\n",
        "Un agricultor necesita saber cuántos kilogramos de semilla de maíz debe comprar para sembrar un lote rectangular. Conoce la densidad de siembra recomendada (kg por hectárea) y las dimensiones del lote (largo y ancho en metros)"
      ],
      "metadata": {
        "id": "NNRxK-VLHurs"
      }
    },
    {
      "cell_type": "code",
      "source": [
        "# Cálculo de Semillas\n",
        "# 1.  Saludar al usuario y explicar qué hace el programa\n",
        "print(\"Bienvenidos al calculo de semillas\")\n",
        "\n",
        "# 2.  Pedir al usuario que ingrese el largo del lote en metros (input sin conversion)\n",
        "largo = input(\"Ingrese el largo del lote en metros: \")\n",
        "\n",
        "# 3. Pedir el ancho del lote en metros (input sin conversión).\n",
        "ancho = input(\"Ingrese el ancho del lote en metros: \")\n",
        "\n",
        "# 4.  Pedir la densidad de siembra en kg/hectárea (input).\n",
        "densidad = input(\"Ingrese la densidad de siembra en kg/hectárea: \")\n",
        "\n",
        "# 5.  Convertir las entradas de texto a números decimales (float).\n",
        "largo = float(largo)\n",
        "ancho = float(ancho)\n",
        "densidad = float(densidad)\n",
        "\n",
        "# 6  Calcular el área en metros cuadrados (largo * ancho).\n",
        "area = largo * ancho\n",
        "\n",
        "# 7. Convertir el área a hectáreas (1 hectárea = 10,000 m²).\n",
        "area = area / 10000\n",
        "\n",
        "# 8. Calcular la cantidad de semillas en kilogramos (area * densidad).\n",
        "semillas = area * densidad\n",
        "\n",
        "# 9. Mostrar el resultado al usuario.\n",
        "print(\"La cantidad de semillas a comprar es:\", semillas, \"kg\")"
      ],
      "metadata": {
        "id": "g5dd0gHOIKzr"
      },
      "execution_count": null,
      "outputs": []
    },
    {
      "cell_type": "markdown",
      "metadata": {
        "id": "37b32a8f"
      },
      "source": [
        "Aquí tienes la explicación del código línea por línea:"
      ]
    },
    {
      "cell_type": "code",
      "metadata": {
        "colab": {
          "base_uri": "https://localhost:8080/"
        },
        "id": "7abc3e22",
        "outputId": "27230424-ebce-4e9a-b997-5615d208a3f6"
      },
      "source": [
        "# 2.  Pedir al usuario que ingrese el largo del lote en metros (input sin conversion)\n",
        "largo = input(\"Ingrese el largo del lote en metros: \")"
      ],
      "execution_count": 1,
      "outputs": [
        {
          "name": "stdout",
          "output_type": "stream",
          "text": [
            "Ingrese el largo del lote en metros: 23\n"
          ]
        }
      ]
    },
    {
      "cell_type": "code",
      "metadata": {
        "colab": {
          "base_uri": "https://localhost:8080/"
        },
        "id": "6808ec29",
        "outputId": "793b4684-7a6b-4b11-edae-16b3e1b88396"
      },
      "source": [
        "# 3. Pedir el ancho del lote en metros (input sin conversión).\n",
        "ancho = input(\"Ingrese el ancho del lote en metros: \")"
      ],
      "execution_count": 2,
      "outputs": [
        {
          "name": "stdout",
          "output_type": "stream",
          "text": [
            "Ingrese el ancho del lote en metros: 34\n"
          ]
        }
      ]
    },
    {
      "cell_type": "code",
      "metadata": {
        "colab": {
          "base_uri": "https://localhost:8080/"
        },
        "id": "87b38087",
        "outputId": "eab36f57-44a3-4ec3-f20a-c4102c875775"
      },
      "source": [
        "# 4.  Pedir la densidad de siembra en kg/hectárea (input).\n",
        "densidad = input(\"Ingrese la densidad de siembra en kg/hectárea: \")"
      ],
      "execution_count": 3,
      "outputs": [
        {
          "name": "stdout",
          "output_type": "stream",
          "text": [
            "Ingrese la densidad de siembra en kg/hectárea: 45\n"
          ]
        }
      ]
    },
    {
      "cell_type": "code",
      "metadata": {
        "id": "3a57788f"
      },
      "source": [
        "# 5.  Convertir las entradas de texto a números decimales (float).\n",
        "largo = float(largo)\n",
        "ancho = float(ancho)\n",
        "densidad = float(densidad)"
      ],
      "execution_count": 4,
      "outputs": []
    },
    {
      "cell_type": "code",
      "metadata": {
        "id": "74517775"
      },
      "source": [
        "# 6  Calcular el área en metros cuadrados (largo * ancho).\n",
        "area = largo * ancho"
      ],
      "execution_count": 5,
      "outputs": []
    },
    {
      "cell_type": "code",
      "metadata": {
        "id": "1922991d"
      },
      "source": [
        "# 7. Convertir el área a hectáreas (1 hectárea = 10,000 m²).\n",
        "area = area / 10000"
      ],
      "execution_count": 6,
      "outputs": []
    },
    {
      "cell_type": "code",
      "metadata": {
        "id": "7329f63b"
      },
      "source": [
        "# 8. Calcular la cantidad de semillas en kilogramos (area * densidad).\n",
        "semillas = area * densidad"
      ],
      "execution_count": 7,
      "outputs": []
    },
    {
      "cell_type": "code",
      "metadata": {
        "colab": {
          "base_uri": "https://localhost:8080/"
        },
        "id": "641ecee7",
        "outputId": "1b8e5977-6d41-4635-9cec-a19267baee25"
      },
      "source": [
        "# 9. Mostrar el resultado al usuario.\n",
        "print(\"La cantidad de semillas a comprar es:\", semillas, \"kg\")"
      ],
      "execution_count": 8,
      "outputs": [
        {
          "output_type": "stream",
          "name": "stdout",
          "text": [
            "La cantidad de semillas a comprar es: 3.519 kg\n"
          ]
        }
      ]
    }
  ]
}